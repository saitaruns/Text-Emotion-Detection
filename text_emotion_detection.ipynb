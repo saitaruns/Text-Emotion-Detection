{
  "nbformat": 4,
  "nbformat_minor": 0,
  "metadata": {
    "colab": {
      "name": "nlpfinal.ipynb",
      "provenance": [],
      "collapsed_sections": []
    },
    "kernelspec": {
      "name": "python3",
      "display_name": "Python 3"
    },
    "language_info": {
      "name": "python"
    }
  },
  "cells": [
    {
      "cell_type": "markdown",
      "source": [
        "# Text Emotion Detection\n",
        "\n",
        "---\n",
        "####Chris Pamula S20190010133\n",
        "####S Sai Tarun S20190010157\n",
        "####L Kranthi Kusal S20190010107\n",
        "####S Charan Teja S20190010170\n"
      ],
      "metadata": {
        "id": "BpiQQp7yMI_y"
      }
    },
    {
      "cell_type": "markdown",
      "source": [
        "### Importing libraries"
      ],
      "metadata": {
        "id": "SWmPT71MP00y"
      }
    },
    {
      "cell_type": "code",
      "execution_count": null,
      "metadata": {
        "id": "n1VC1FBL6Tp5"
      },
      "outputs": [],
      "source": [
        "import pandas as pd\n",
        "import numpy as np\n",
        "import re, math\n",
        "from sklearn.metrics import confusion_matrix , classification_report"
      ]
    },
    {
      "cell_type": "markdown",
      "source": [
        "### Uploading files ( dataset )"
      ],
      "metadata": {
        "id": "bTFv1K0WMdUD"
      }
    },
    {
      "cell_type": "code",
      "source": [
        "from google.colab import files\n",
        "\n",
        "uploaded = files.upload()"
      ],
      "metadata": {
        "colab": {
          "resources": {
            "http://localhost:8080/nbextensions/google.colab/files.js": {
              "data": "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",
              "ok": true,
              "headers": [
                [
                  "content-type",
                  "application/javascript"
                ]
              ],
              "status": 200,
              "status_text": ""
            }
          },
          "base_uri": "https://localhost:8080/",
          "height": 143
        },
        "id": "rf7LNJmA6eMQ",
        "outputId": "0037ef27-5615-4aa7-83db-e6e2c1152919"
      },
      "execution_count": null,
      "outputs": [
        {
          "output_type": "display_data",
          "data": {
            "text/html": [
              "\n",
              "     <input type=\"file\" id=\"files-6884d0d2-e0f0-4049-bfcb-8daffc83eca7\" name=\"files[]\" multiple disabled\n",
              "        style=\"border:none\" />\n",
              "     <output id=\"result-6884d0d2-e0f0-4049-bfcb-8daffc83eca7\">\n",
              "      Upload widget is only available when the cell has been executed in the\n",
              "      current browser session. Please rerun this cell to enable.\n",
              "      </output>\n",
              "      <script src=\"/nbextensions/google.colab/files.js\"></script> "
            ],
            "text/plain": [
              "<IPython.core.display.HTML object>"
            ]
          },
          "metadata": {}
        },
        {
          "output_type": "stream",
          "name": "stdout",
          "text": [
            "Saving test.txt to test.txt\n",
            "Saving train.txt to train.txt\n",
            "Saving val.txt to val.txt\n"
          ]
        }
      ]
    },
    {
      "cell_type": "code",
      "source": [
        "train_data = pd.read_csv(\"/content/train.txt\", header = None)\n",
        "# validation_data = pd.read_csv(\"/content/val.txt\", header = None)\n",
        "test_data = pd.read_csv(\"/content/test.txt\", header = None)"
      ],
      "metadata": {
        "id": "urKKZa-L6mdF"
      },
      "execution_count": null,
      "outputs": []
    },
    {
      "cell_type": "code",
      "source": [
        "train_data.head()"
      ],
      "metadata": {
        "colab": {
          "base_uri": "https://localhost:8080/",
          "height": 206
        },
        "id": "zk5juubjQIOC",
        "outputId": "499219d7-7451-41a3-8957-b9717ecb47ef"
      },
      "execution_count": null,
      "outputs": [
        {
          "output_type": "execute_result",
          "data": {
            "text/html": [
              "<div>\n",
              "<style scoped>\n",
              "    .dataframe tbody tr th:only-of-type {\n",
              "        vertical-align: middle;\n",
              "    }\n",
              "\n",
              "    .dataframe tbody tr th {\n",
              "        vertical-align: top;\n",
              "    }\n",
              "\n",
              "    .dataframe thead th {\n",
              "        text-align: right;\n",
              "    }\n",
              "</style>\n",
              "<table border=\"1\" class=\"dataframe\">\n",
              "  <thead>\n",
              "    <tr style=\"text-align: right;\">\n",
              "      <th></th>\n",
              "      <th>0</th>\n",
              "    </tr>\n",
              "  </thead>\n",
              "  <tbody>\n",
              "    <tr>\n",
              "      <th>0</th>\n",
              "      <td>i didnt feel humiliated;sadness</td>\n",
              "    </tr>\n",
              "    <tr>\n",
              "      <th>1</th>\n",
              "      <td>i can go from feeling so hopeless to so damned...</td>\n",
              "    </tr>\n",
              "    <tr>\n",
              "      <th>2</th>\n",
              "      <td>im grabbing a minute to post i feel greedy wro...</td>\n",
              "    </tr>\n",
              "    <tr>\n",
              "      <th>3</th>\n",
              "      <td>i am ever feeling nostalgic about the fireplac...</td>\n",
              "    </tr>\n",
              "    <tr>\n",
              "      <th>4</th>\n",
              "      <td>i am feeling grouchy;anger</td>\n",
              "    </tr>\n",
              "  </tbody>\n",
              "</table>\n",
              "</div>"
            ],
            "text/plain": [
              "                                                   0\n",
              "0                    i didnt feel humiliated;sadness\n",
              "1  i can go from feeling so hopeless to so damned...\n",
              "2  im grabbing a minute to post i feel greedy wro...\n",
              "3  i am ever feeling nostalgic about the fireplac...\n",
              "4                         i am feeling grouchy;anger"
            ]
          },
          "metadata": {},
          "execution_count": 211
        }
      ]
    },
    {
      "cell_type": "code",
      "source": [
        "# validation_data.head()"
      ],
      "metadata": {
        "id": "FBvySPimQL1B"
      },
      "execution_count": null,
      "outputs": []
    },
    {
      "cell_type": "code",
      "source": [
        "test_data.head()"
      ],
      "metadata": {
        "colab": {
          "base_uri": "https://localhost:8080/",
          "height": 206
        },
        "id": "cxknyYaKQPjk",
        "outputId": "a8f2726a-a8dd-48e0-952b-f1586097d118"
      },
      "execution_count": null,
      "outputs": [
        {
          "output_type": "execute_result",
          "data": {
            "text/html": [
              "<div>\n",
              "<style scoped>\n",
              "    .dataframe tbody tr th:only-of-type {\n",
              "        vertical-align: middle;\n",
              "    }\n",
              "\n",
              "    .dataframe tbody tr th {\n",
              "        vertical-align: top;\n",
              "    }\n",
              "\n",
              "    .dataframe thead th {\n",
              "        text-align: right;\n",
              "    }\n",
              "</style>\n",
              "<table border=\"1\" class=\"dataframe\">\n",
              "  <thead>\n",
              "    <tr style=\"text-align: right;\">\n",
              "      <th></th>\n",
              "      <th>0</th>\n",
              "    </tr>\n",
              "  </thead>\n",
              "  <tbody>\n",
              "    <tr>\n",
              "      <th>0</th>\n",
              "      <td>im feeling rather rotten so im not very ambiti...</td>\n",
              "    </tr>\n",
              "    <tr>\n",
              "      <th>1</th>\n",
              "      <td>im updating my blog because i feel shitty;sadness</td>\n",
              "    </tr>\n",
              "    <tr>\n",
              "      <th>2</th>\n",
              "      <td>i never make her separate from me because i do...</td>\n",
              "    </tr>\n",
              "    <tr>\n",
              "      <th>3</th>\n",
              "      <td>i left with my bouquet of red and yellow tulip...</td>\n",
              "    </tr>\n",
              "    <tr>\n",
              "      <th>4</th>\n",
              "      <td>i was feeling a little vain when i did this on...</td>\n",
              "    </tr>\n",
              "  </tbody>\n",
              "</table>\n",
              "</div>"
            ],
            "text/plain": [
              "                                                   0\n",
              "0  im feeling rather rotten so im not very ambiti...\n",
              "1  im updating my blog because i feel shitty;sadness\n",
              "2  i never make her separate from me because i do...\n",
              "3  i left with my bouquet of red and yellow tulip...\n",
              "4  i was feeling a little vain when i did this on..."
            ]
          },
          "metadata": {},
          "execution_count": 212
        }
      ]
    },
    {
      "cell_type": "markdown",
      "source": [
        "### Data Cleaning"
      ],
      "metadata": {
        "id": "dZp4WCVMMtUM"
      }
    },
    {
      "cell_type": "code",
      "source": [
        "def rename_column(dataset):\n",
        "  dataset.rename(columns = {0 : 'description'}, inplace = True)\n",
        "  return dataset"
      ],
      "metadata": {
        "id": "5qrMHRgn6qsd"
      },
      "execution_count": null,
      "outputs": []
    },
    {
      "cell_type": "code",
      "source": [
        "rename_column(train_data)\n",
        "# rename_column(validation_data)\n",
        "rename_column(test_data)"
      ],
      "metadata": {
        "colab": {
          "base_uri": "https://localhost:8080/"
        },
        "id": "c7aiyHFY6v9W",
        "outputId": "2d99aa4f-646a-474d-a646-cd4dedfbe26c"
      },
      "execution_count": null,
      "outputs": [
        {
          "output_type": "execute_result",
          "data": {
            "text/html": [
              "<div>\n",
              "<style scoped>\n",
              "    .dataframe tbody tr th:only-of-type {\n",
              "        vertical-align: middle;\n",
              "    }\n",
              "\n",
              "    .dataframe tbody tr th {\n",
              "        vertical-align: top;\n",
              "    }\n",
              "\n",
              "    .dataframe thead th {\n",
              "        text-align: right;\n",
              "    }\n",
              "</style>\n",
              "<table border=\"1\" class=\"dataframe\">\n",
              "  <thead>\n",
              "    <tr style=\"text-align: right;\">\n",
              "      <th></th>\n",
              "      <th>description</th>\n",
              "    </tr>\n",
              "  </thead>\n",
              "  <tbody>\n",
              "    <tr>\n",
              "      <th>0</th>\n",
              "      <td>im feeling rather rotten so im not very ambiti...</td>\n",
              "    </tr>\n",
              "    <tr>\n",
              "      <th>1</th>\n",
              "      <td>im updating my blog because i feel shitty;sadness</td>\n",
              "    </tr>\n",
              "    <tr>\n",
              "      <th>2</th>\n",
              "      <td>i never make her separate from me because i do...</td>\n",
              "    </tr>\n",
              "    <tr>\n",
              "      <th>3</th>\n",
              "      <td>i left with my bouquet of red and yellow tulip...</td>\n",
              "    </tr>\n",
              "    <tr>\n",
              "      <th>4</th>\n",
              "      <td>i was feeling a little vain when i did this on...</td>\n",
              "    </tr>\n",
              "    <tr>\n",
              "      <th>...</th>\n",
              "      <td>...</td>\n",
              "    </tr>\n",
              "    <tr>\n",
              "      <th>1995</th>\n",
              "      <td>i just keep feeling like someone is being unki...</td>\n",
              "    </tr>\n",
              "    <tr>\n",
              "      <th>1996</th>\n",
              "      <td>im feeling a little cranky negative after this...</td>\n",
              "    </tr>\n",
              "    <tr>\n",
              "      <th>1997</th>\n",
              "      <td>i feel that i am useful to my people and that ...</td>\n",
              "    </tr>\n",
              "    <tr>\n",
              "      <th>1998</th>\n",
              "      <td>im feeling more comfortable with derby i feel ...</td>\n",
              "    </tr>\n",
              "    <tr>\n",
              "      <th>1999</th>\n",
              "      <td>i feel all weird when i have to meet w people ...</td>\n",
              "    </tr>\n",
              "  </tbody>\n",
              "</table>\n",
              "<p>2000 rows × 1 columns</p>\n",
              "</div>"
            ],
            "text/plain": [
              "                                            description\n",
              "0     im feeling rather rotten so im not very ambiti...\n",
              "1     im updating my blog because i feel shitty;sadness\n",
              "2     i never make her separate from me because i do...\n",
              "3     i left with my bouquet of red and yellow tulip...\n",
              "4     i was feeling a little vain when i did this on...\n",
              "...                                                 ...\n",
              "1995  i just keep feeling like someone is being unki...\n",
              "1996  im feeling a little cranky negative after this...\n",
              "1997  i feel that i am useful to my people and that ...\n",
              "1998  im feeling more comfortable with derby i feel ...\n",
              "1999  i feel all weird when i have to meet w people ...\n",
              "\n",
              "[2000 rows x 1 columns]"
            ]
          },
          "metadata": {},
          "execution_count": 214
        }
      ]
    },
    {
      "cell_type": "code",
      "source": [
        "def separate_emotion(dataset):\n",
        "    dataset[[\"text\", \"emotion\"]] = dataset[\"description\"].str.split(\";\", expand = True)\n",
        "    dataset = dataset.drop(\"description\", axis = 1)\n",
        "    return dataset"
      ],
      "metadata": {
        "id": "r9MBk2kG6zg-"
      },
      "execution_count": null,
      "outputs": []
    },
    {
      "cell_type": "code",
      "source": [
        "train_data = separate_emotion(train_data)\n",
        "# validation_data = separate_emotion(validation_data)\n",
        "test_data = separate_emotion(test_data)"
      ],
      "metadata": {
        "id": "4Bk2Rt0661yi"
      },
      "execution_count": null,
      "outputs": []
    },
    {
      "cell_type": "code",
      "source": [
        "train_data.head()"
      ],
      "metadata": {
        "colab": {
          "base_uri": "https://localhost:8080/"
        },
        "id": "NZ-k_3aYGevA",
        "outputId": "11f1ae3e-d33e-4db5-beaa-75963bc4af9f"
      },
      "execution_count": null,
      "outputs": [
        {
          "output_type": "execute_result",
          "data": {
            "text/html": [
              "<div>\n",
              "<style scoped>\n",
              "    .dataframe tbody tr th:only-of-type {\n",
              "        vertical-align: middle;\n",
              "    }\n",
              "\n",
              "    .dataframe tbody tr th {\n",
              "        vertical-align: top;\n",
              "    }\n",
              "\n",
              "    .dataframe thead th {\n",
              "        text-align: right;\n",
              "    }\n",
              "</style>\n",
              "<table border=\"1\" class=\"dataframe\">\n",
              "  <thead>\n",
              "    <tr style=\"text-align: right;\">\n",
              "      <th></th>\n",
              "      <th>text</th>\n",
              "      <th>emotion</th>\n",
              "    </tr>\n",
              "  </thead>\n",
              "  <tbody>\n",
              "    <tr>\n",
              "      <th>0</th>\n",
              "      <td>i didnt feel humiliated</td>\n",
              "      <td>sadness</td>\n",
              "    </tr>\n",
              "    <tr>\n",
              "      <th>1</th>\n",
              "      <td>i can go from feeling so hopeless to so damned...</td>\n",
              "      <td>sadness</td>\n",
              "    </tr>\n",
              "    <tr>\n",
              "      <th>2</th>\n",
              "      <td>im grabbing a minute to post i feel greedy wrong</td>\n",
              "      <td>anger</td>\n",
              "    </tr>\n",
              "    <tr>\n",
              "      <th>3</th>\n",
              "      <td>i am ever feeling nostalgic about the fireplac...</td>\n",
              "      <td>love</td>\n",
              "    </tr>\n",
              "    <tr>\n",
              "      <th>4</th>\n",
              "      <td>i am feeling grouchy</td>\n",
              "      <td>anger</td>\n",
              "    </tr>\n",
              "  </tbody>\n",
              "</table>\n",
              "</div>"
            ],
            "text/plain": [
              "                                                text  emotion\n",
              "0                            i didnt feel humiliated  sadness\n",
              "1  i can go from feeling so hopeless to so damned...  sadness\n",
              "2   im grabbing a minute to post i feel greedy wrong    anger\n",
              "3  i am ever feeling nostalgic about the fireplac...     love\n",
              "4                               i am feeling grouchy    anger"
            ]
          },
          "metadata": {},
          "execution_count": 217
        }
      ]
    },
    {
      "cell_type": "code",
      "source": [
        "emotions_encoded = {\"anger\": 0, \"fear\": 1, \"joy\": 2, \"love\": 3, \"sadness\": 4, \"surprise\": 5}"
      ],
      "metadata": {
        "id": "vq8cyL4t65qA"
      },
      "execution_count": null,
      "outputs": []
    },
    {
      "cell_type": "code",
      "source": [
        "def encode_emotions(dataset):\n",
        "    dataset.replace(emotions_encoded, inplace = True)\n",
        "    return dataset"
      ],
      "metadata": {
        "id": "TwpV_MAX68D7"
      },
      "execution_count": null,
      "outputs": []
    },
    {
      "cell_type": "code",
      "source": [
        "encode_emotions(train_data)\n",
        "# encode_emotions(validation_data)\n",
        "encode_emotions(test_data)"
      ],
      "metadata": {
        "colab": {
          "base_uri": "https://localhost:8080/"
        },
        "id": "LE0_VlbX69is",
        "outputId": "599d230e-2c9c-478f-f2e1-8213ba4b2353"
      },
      "execution_count": null,
      "outputs": [
        {
          "output_type": "execute_result",
          "data": {
            "text/html": [
              "<div>\n",
              "<style scoped>\n",
              "    .dataframe tbody tr th:only-of-type {\n",
              "        vertical-align: middle;\n",
              "    }\n",
              "\n",
              "    .dataframe tbody tr th {\n",
              "        vertical-align: top;\n",
              "    }\n",
              "\n",
              "    .dataframe thead th {\n",
              "        text-align: right;\n",
              "    }\n",
              "</style>\n",
              "<table border=\"1\" class=\"dataframe\">\n",
              "  <thead>\n",
              "    <tr style=\"text-align: right;\">\n",
              "      <th></th>\n",
              "      <th>text</th>\n",
              "      <th>emotion</th>\n",
              "    </tr>\n",
              "  </thead>\n",
              "  <tbody>\n",
              "    <tr>\n",
              "      <th>0</th>\n",
              "      <td>im feeling rather rotten so im not very ambiti...</td>\n",
              "      <td>4</td>\n",
              "    </tr>\n",
              "    <tr>\n",
              "      <th>1</th>\n",
              "      <td>im updating my blog because i feel shitty</td>\n",
              "      <td>4</td>\n",
              "    </tr>\n",
              "    <tr>\n",
              "      <th>2</th>\n",
              "      <td>i never make her separate from me because i do...</td>\n",
              "      <td>4</td>\n",
              "    </tr>\n",
              "    <tr>\n",
              "      <th>3</th>\n",
              "      <td>i left with my bouquet of red and yellow tulip...</td>\n",
              "      <td>2</td>\n",
              "    </tr>\n",
              "    <tr>\n",
              "      <th>4</th>\n",
              "      <td>i was feeling a little vain when i did this one</td>\n",
              "      <td>4</td>\n",
              "    </tr>\n",
              "    <tr>\n",
              "      <th>...</th>\n",
              "      <td>...</td>\n",
              "      <td>...</td>\n",
              "    </tr>\n",
              "    <tr>\n",
              "      <th>1995</th>\n",
              "      <td>i just keep feeling like someone is being unki...</td>\n",
              "      <td>0</td>\n",
              "    </tr>\n",
              "    <tr>\n",
              "      <th>1996</th>\n",
              "      <td>im feeling a little cranky negative after this...</td>\n",
              "      <td>0</td>\n",
              "    </tr>\n",
              "    <tr>\n",
              "      <th>1997</th>\n",
              "      <td>i feel that i am useful to my people and that ...</td>\n",
              "      <td>2</td>\n",
              "    </tr>\n",
              "    <tr>\n",
              "      <th>1998</th>\n",
              "      <td>im feeling more comfortable with derby i feel ...</td>\n",
              "      <td>2</td>\n",
              "    </tr>\n",
              "    <tr>\n",
              "      <th>1999</th>\n",
              "      <td>i feel all weird when i have to meet w people ...</td>\n",
              "      <td>1</td>\n",
              "    </tr>\n",
              "  </tbody>\n",
              "</table>\n",
              "<p>2000 rows × 2 columns</p>\n",
              "</div>"
            ],
            "text/plain": [
              "                                                   text  emotion\n",
              "0     im feeling rather rotten so im not very ambiti...        4\n",
              "1             im updating my blog because i feel shitty        4\n",
              "2     i never make her separate from me because i do...        4\n",
              "3     i left with my bouquet of red and yellow tulip...        2\n",
              "4       i was feeling a little vain when i did this one        4\n",
              "...                                                 ...      ...\n",
              "1995  i just keep feeling like someone is being unki...        0\n",
              "1996  im feeling a little cranky negative after this...        0\n",
              "1997  i feel that i am useful to my people and that ...        2\n",
              "1998  im feeling more comfortable with derby i feel ...        2\n",
              "1999  i feel all weird when i have to meet w people ...        1\n",
              "\n",
              "[2000 rows x 2 columns]"
            ]
          },
          "metadata": {},
          "execution_count": 220
        }
      ]
    },
    {
      "cell_type": "code",
      "source": [
        "def separating_features_labels(dataset):\n",
        "  features = dataset[\"text\"].to_numpy()\n",
        "  labels = dataset[\"emotion\"].to_numpy()\n",
        "  return (features, labels)"
      ],
      "metadata": {
        "id": "EHvRTmz97C4D"
      },
      "execution_count": null,
      "outputs": []
    },
    {
      "cell_type": "code",
      "source": [
        "(train_features, train_labels) = separating_features_labels(train_data)\n",
        "# (validation_features, validation_labels) = separating_features_labels(validation_data)\n",
        "(test_features, test_labels) = separating_features_labels(test_data)"
      ],
      "metadata": {
        "id": "rT-xhZc-7EnF"
      },
      "execution_count": null,
      "outputs": []
    },
    {
      "cell_type": "markdown",
      "source": [
        "### Removing stop words"
      ],
      "metadata": {
        "id": "KXu2rxckNU-g"
      }
    },
    {
      "cell_type": "markdown",
      "source": [
        "Stop words are filler words, which are words with little or no meaning. These words do not have much role in emotion detection. We are defining the stopwords in a list so that they can be removed from the sentences."
      ],
      "metadata": {
        "id": "w299Pgte97oY"
      }
    },
    {
      "cell_type": "code",
      "source": [
        "stop_words = ['ourselves', 'hers', 'between', 'yourself', 'but', 'again', 'there', 'about', 'once', 'during', \n",
        "              'out', 'very', 'having', 'with', 'they', 'own', 'an', 'be', 'some', 'for', 'do', 'its', \n",
        "              'yours', 'such', 'into', 'of', 'most', 'itself', 'other', 'is', 's', 'am', 'or', 'who', \n",
        "              'as', 'from', 'him', 'each', 'the', 'themselves', 'until', 'below', 'are', 'we', \n",
        "              'these', 'your', 'his', 'through', 'don', 'me', 'were', 'her', 'more', 'himself', \n",
        "              'this', 'down', 'should', 'our', 'their', 'while', 'above', 'both', 'up', 'to',\n",
        "              'ours', 'had', 'she', 'all', 'when', 'at', 'any', 'before', 'them', 'same', 'and', \n",
        "              'been', 'have', 'in', 'will', 'on', 'does', 'yourselves', 'then', 'that', 'because',\n",
        "              'what', 'over', 'why', 'so', 'can', 'did', 'not', 'now', 'under', 'he', 'you', \n",
        "              'herself', 'has', 'just', 'where', 'only', 'myself', 'which', 'those', 'i', \n",
        "              'after', 'few', 'whom', 't', 'being', 'if', 'theirs', 'my', 'against', 'a', \n",
        "              'by', 'doing', 'it', 'how', 'further', 'was', 'here', 'than',\n",
        "              'ti','ame',' m','have','i','say','ames','someti'\n",
        "              ]\n",
        "\n",
        "my_decontract_dict = {\"won't\":\"will not\", \"can't\":\"can not\",\"n't\":\" not\", \n",
        "                          \"'re\":\" are\",\"'s been\":\" has been\",\"'s\":\" is\",\"'d\":\" would\",\"'ll\":\" will\",\n",
        "                          \"'t\":\" not\", \"ve\":\" have\", \"'m\":\" am\", \"im\":\"i am\"}"
      ],
      "metadata": {
        "id": "cC34kiOZRUd3"
      },
      "execution_count": null,
      "outputs": []
    },
    {
      "cell_type": "code",
      "source": [
        "def decontractions(text):\n",
        "    for c in list(my_decontract_dict.keys()):  \n",
        "      text = text.replace(c,my_decontract_dict[c])\n",
        "    return text\n",
        "def remove_stopwords(input_text):\n",
        "    words = decontractions(input_text).split()\n",
        "    clean_words = [word for word in words if word not in stop_words]\n",
        "    clean_words = \" \".join(clean_words)\n",
        "    return clean_words\n",
        "def cleaner(sent):\n",
        "    sent = re.sub(\"@[A-Za-z0-9]+\",\"\",sent) # /@tarun \n",
        "    sent = re.sub(r\"(?:\\@|http?\\://|https?\\://|www)\\S+\", \"\", sent)\n",
        "    sent = \" \".join(sent.split())\n",
        "    sent = sent.replace(\"#\", \"\").replace(\"_\", \" \")\n",
        "    return sent"
      ],
      "metadata": {
        "id": "lhCM2b_nJvJc"
      },
      "execution_count": null,
      "outputs": []
    },
    {
      "cell_type": "code",
      "source": [
        "train_data[\"text\"] = train_data[\"text\"].apply(remove_stopwords)\n",
        "# validation_data[\"text\"] = validation_data[\"text\"].apply(remove_stopwords)\n",
        "test_data[\"text\"] = test_data[\"text\"].apply(remove_stopwords)"
      ],
      "metadata": {
        "id": "tYD1BHJ2SQbL"
      },
      "execution_count": null,
      "outputs": []
    },
    {
      "cell_type": "code",
      "source": [
        "train_features"
      ],
      "metadata": {
        "colab": {
          "base_uri": "https://localhost:8080/"
        },
        "id": "I2ukLQ-vI993",
        "outputId": "3098e379-f41a-47cb-ef96-b97490753236"
      },
      "execution_count": null,
      "outputs": [
        {
          "output_type": "execute_result",
          "data": {
            "text/plain": [
              "array(['didnt feel humiliated',\n",
              "       'go feeling hopeless damned hopeful around someone cares awake',\n",
              "       'grabbing minute post feel greedy wrong', ...,\n",
              "       'feel strong good o haverall', 'feel like rude comment glad',\n",
              "       'know lot feel stupid portray'], dtype=object)"
            ]
          },
          "metadata": {},
          "execution_count": 226
        }
      ]
    },
    {
      "cell_type": "code",
      "source": [
        "print(set(train_labels))"
      ],
      "metadata": {
        "colab": {
          "base_uri": "https://localhost:8080/"
        },
        "id": "BNg8WTk87LAO",
        "outputId": "b8392652-d230-4b03-d6a5-09b09a64dc24"
      },
      "execution_count": null,
      "outputs": [
        {
          "output_type": "stream",
          "name": "stdout",
          "text": [
            "{0, 1, 2, 3, 4, 5}\n"
          ]
        }
      ]
    },
    {
      "cell_type": "markdown",
      "source": [
        "## N grams\n",
        "\n",
        "We created a function for obtaining n grams for the given corpus. It takes a sentence and the n value and returns the n grams for the given sentence."
      ],
      "metadata": {
        "id": "NwexXVilNM4G"
      }
    },
    {
      "cell_type": "code",
      "source": [
        "def getNgrams(text,ngram=1): #text : i am tarun\n",
        "  words=[word for word in text.split(\" \")] # [i, am, tarun]\n",
        "  X = [words[i:] for i in range(0,ngram)] #[[i,am,tarun],[am,tarun]]\n",
        "  temp=zip(*[words[i:] for i in range(0,ngram)]) #[(i,am),(am,tarun)]\n",
        "  ans=[' '.join(ngram) for ngram in temp] #[ i am, am tarun ]\n",
        "  return ans"
      ],
      "metadata": {
        "id": "bRq_2tnhdTvJ"
      },
      "execution_count": null,
      "outputs": []
    },
    {
      "cell_type": "code",
      "source": [
        "ngram_value = int(input(\"ngram: \"))"
      ],
      "metadata": {
        "colab": {
          "base_uri": "https://localhost:8080/"
        },
        "id": "g9m6iYc-q-KI",
        "outputId": "0f96ad1c-adfc-4bb7-9445-9982ec7f9a3c"
      },
      "execution_count": null,
      "outputs": [
        {
          "name": "stdout",
          "output_type": "stream",
          "text": [
            "ngram: 1\n"
          ]
        }
      ]
    },
    {
      "cell_type": "code",
      "source": [
        "getNgrams(\"i am chris\", 2)"
      ],
      "metadata": {
        "colab": {
          "base_uri": "https://localhost:8080/"
        },
        "id": "mRhCHR1fKcOq",
        "outputId": "67dfdd90-4f37-4898-8068-a7c88b09687f"
      },
      "execution_count": null,
      "outputs": [
        {
          "output_type": "execute_result",
          "data": {
            "text/plain": [
              "['i am', 'am chris']"
            ]
          },
          "metadata": {},
          "execution_count": 230
        }
      ]
    },
    {
      "cell_type": "markdown",
      "source": [
        "#Word Index\n",
        "\n",
        "Creating a dictionary for the word frequencies. We counted the frequencies of the terms present in the corpus. "
      ],
      "metadata": {
        "id": "teRq2H7m-740"
      }
    },
    {
      "cell_type": "code",
      "source": [
        "def createWordIndex(sentlist,ngram=1):\n",
        "  cnt = 0\n",
        "  word_index = {}\n",
        "  for sent in sentlist:\n",
        "    cnt+=1\n",
        "    for word in getNgrams(sent,ngram):\n",
        "      if word not in word_index:\n",
        "        word_index[word] = 1\n",
        "      else:\n",
        "        word_index[word] += 1\n",
        "  return word_index, cnt"
      ],
      "metadata": {
        "id": "VZb-25nq9naH"
      },
      "execution_count": null,
      "outputs": []
    },
    {
      "cell_type": "code",
      "source": [
        "index = {} #index : { \n",
        "           #  0: {\n",
        "           #    token : freq\n",
        "           #  },\n",
        "           #  1: {\n",
        "           #    token :freq\n",
        "           #  },\n",
        "           #  ..\n",
        "           #  }\n",
        "count = {}\n",
        "for i in range(6):\n",
        "  index[i],count[i] = createWordIndex(train_data.loc[train_data[\"emotion\"]  == i][\"text\"],ngram_value)"
      ],
      "metadata": {
        "id": "TJs7CZoAq5dI"
      },
      "execution_count": null,
      "outputs": []
    },
    {
      "cell_type": "code",
      "source": [
        "# index"
      ],
      "metadata": {
        "id": "1JLldxfSKvHN"
      },
      "execution_count": null,
      "outputs": []
    },
    {
      "cell_type": "markdown",
      "source": [
        "### prior probabilities"
      ],
      "metadata": {
        "id": "IVAAqTxFd3tX"
      }
    },
    {
      "cell_type": "code",
      "source": [
        "sum(count.values())"
      ],
      "metadata": {
        "colab": {
          "base_uri": "https://localhost:8080/"
        },
        "id": "ll1kw7WQ7tbN",
        "outputId": "a819837e-4a3a-4da0-815d-80f69de0c4fa"
      },
      "execution_count": null,
      "outputs": [
        {
          "output_type": "execute_result",
          "data": {
            "text/plain": [
              "16000"
            ]
          },
          "metadata": {},
          "execution_count": 234
        }
      ]
    },
    {
      "cell_type": "code",
      "source": [
        "for i in range(6):\n",
        "  print(count[i])"
      ],
      "metadata": {
        "colab": {
          "base_uri": "https://localhost:8080/"
        },
        "id": "h0SXDnq58B9N",
        "outputId": "cbf94abc-6041-4fed-9744-ddbb3434e3a4"
      },
      "execution_count": null,
      "outputs": [
        {
          "output_type": "stream",
          "name": "stdout",
          "text": [
            "2159\n",
            "1937\n",
            "5362\n",
            "1304\n",
            "4666\n",
            "572\n"
          ]
        }
      ]
    },
    {
      "cell_type": "code",
      "source": [
        "for i in range(6):\n",
        "  prior[i] = count[i]/sum(count.values())"
      ],
      "metadata": {
        "id": "S5z5RlXjDIa0"
      },
      "execution_count": null,
      "outputs": []
    },
    {
      "cell_type": "code",
      "source": [
        "print(\"Prior Probabilities: \")\n",
        "prior"
      ],
      "metadata": {
        "colab": {
          "base_uri": "https://localhost:8080/"
        },
        "id": "OhZtCzb7OrC-",
        "outputId": "97536f5e-7ceb-4b46-f88c-24c83089c0cf"
      },
      "execution_count": null,
      "outputs": [
        {
          "output_type": "stream",
          "name": "stdout",
          "text": [
            "Prior Probabilities: \n"
          ]
        },
        {
          "output_type": "execute_result",
          "data": {
            "text/plain": [
              "{0: 0.1349375, 1: 0.1210625, 2: 0.335125, 3: 0.0815, 4: 0.291625, 5: 0.03575}"
            ]
          },
          "metadata": {},
          "execution_count": 238
        }
      ]
    },
    {
      "cell_type": "code",
      "source": [
        "sum(prior.values())"
      ],
      "metadata": {
        "colab": {
          "base_uri": "https://localhost:8080/"
        },
        "id": "iL2hYl_-9LRF",
        "outputId": "1154e22d-391f-4cf6-96ee-0d6888457a1b"
      },
      "execution_count": null,
      "outputs": [
        {
          "output_type": "execute_result",
          "data": {
            "text/plain": [
              "1.0"
            ]
          },
          "metadata": {},
          "execution_count": 239
        }
      ]
    },
    {
      "cell_type": "markdown",
      "source": [
        "# Testing"
      ],
      "metadata": {
        "id": "v2t4p97BZ8w3"
      }
    },
    {
      "cell_type": "code",
      "source": [
        "test_y = test_data"
      ],
      "metadata": {
        "id": "z5qvUKRbuETU"
      },
      "execution_count": null,
      "outputs": []
    },
    {
      "cell_type": "markdown",
      "source": [
        "# Naive Bayes Theorem"
      ],
      "metadata": {
        "id": "WTD3YoU-84Zq"
      }
    },
    {
      "cell_type": "markdown",
      "source": [
        "![p.png](data:image/png;base64,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)\n",
        "\n",
        "---\n",
        "\n"
      ],
      "metadata": {
        "id": "_1TzhdnK8Gor"
      }
    },
    {
      "cell_type": "code",
      "source": [
        "#p(anger|'i didnt feel humiliated') = p('i'|anger) * p('didnt'|anger) * p('feel'|anger) * p('humiliated'|anger) * p(anger)\n",
        "#p(joy|'i didnt feel humiliated') = p('i'|joy) * p('didnt'|joy) * p('feel'|joy) * p('humiliated'|joy) * p(joy)\n",
        "\n",
        "#p(anger|'i didnt feel humiliated') = p('<s> i')* p('i didnt'|anger) * p('didnt feel'|anger) * p('feel humiliated'|anger) * p('</s> i')* p(anger)"
      ],
      "metadata": {
        "id": "MQ3Bbae77Ma2"
      },
      "execution_count": null,
      "outputs": []
    },
    {
      "cell_type": "markdown",
      "source": [
        "#### p(word|class) = count(word in class) / count(total number of words in class)"
      ],
      "metadata": {
        "id": "SxcB46LAHLLQ"
      }
    },
    {
      "cell_type": "code",
      "source": [
        "def logPrediction(sent):\n",
        "  ind = 0\n",
        "  clas = -10000\n",
        "  for emot in range(6):\n",
        "    res = 0\n",
        "    for word in getNgrams(sent,ngram_value):\n",
        "      try:\n",
        "        res += math.log((index[emot][word] +1)/len(index[emot]))\n",
        "      except:\n",
        "        res += math.log(1/ len(index[emot]))\n",
        "    res += math.log(prior[emot])\n",
        "    if res > clas:\n",
        "      clas = res\n",
        "      ind = emot\n",
        "  return ind"
      ],
      "metadata": {
        "id": "5S_g9rvxbTmw"
      },
      "execution_count": null,
      "outputs": []
    },
    {
      "cell_type": "code",
      "source": [
        "logPrediction(\"I am not deeply happy\")"
      ],
      "metadata": {
        "colab": {
          "base_uri": "https://localhost:8080/"
        },
        "id": "IEjEXXD66wc2",
        "outputId": "38e42f44-34aa-45f8-af63-f8dbe0022660"
      },
      "execution_count": null,
      "outputs": [
        {
          "output_type": "execute_result",
          "data": {
            "text/plain": [
              "2"
            ]
          },
          "metadata": {},
          "execution_count": 251
        }
      ]
    },
    {
      "cell_type": "code",
      "source": [
        "pred = []\n",
        "for sent in test_y.text:\n",
        "  pred.append(logPrediction(sent))"
      ],
      "metadata": {
        "id": "wTuk1CmJFg1p"
      },
      "execution_count": null,
      "outputs": []
    },
    {
      "cell_type": "code",
      "source": [
        "# pred"
      ],
      "metadata": {
        "id": "pnzJQr4oLO5v"
      },
      "execution_count": null,
      "outputs": []
    },
    {
      "cell_type": "code",
      "source": [
        "counter = {}\n",
        "\n",
        "for val in pred:\n",
        "    if val not in counter:\n",
        "        counter[val] = 0\n",
        "    counter[val] += 1\n",
        "counter"
      ],
      "metadata": {
        "colab": {
          "base_uri": "https://localhost:8080/"
        },
        "id": "qcmn8LZFZ2KY",
        "outputId": "a0368375-7160-4ed4-845c-e528453ce36b"
      },
      "execution_count": null,
      "outputs": [
        {
          "output_type": "execute_result",
          "data": {
            "text/plain": [
              "{0: 152, 1: 144, 2: 798, 3: 54, 4: 815, 5: 37}"
            ]
          },
          "metadata": {},
          "execution_count": 246
        }
      ]
    },
    {
      "cell_type": "markdown",
      "source": [
        "##Confusion Matrix"
      ],
      "metadata": {
        "id": "jUw9J58UB6XT"
      }
    },
    {
      "cell_type": "code",
      "source": [
        "confusion_matrix(test_y[\"emotion\"], pred, labels=[0,1,2,3,4,5])"
      ],
      "metadata": {
        "colab": {
          "base_uri": "https://localhost:8080/"
        },
        "id": "ewbzXvWWWd_P",
        "outputId": "b38d8cbe-8fb5-4f6f-94e4-61b20309813c"
      },
      "execution_count": null,
      "outputs": [
        {
          "output_type": "execute_result",
          "data": {
            "text/plain": [
              "array([[143,   7,  27,   0,  90,   8],\n",
              "       [  5, 123,  22,   1,  72,   1],\n",
              "       [  0,   3, 640,   5,  40,   7],\n",
              "       [  3,   0,  72,  48,  34,   2],\n",
              "       [  1,   3,  17,   0, 558,   2],\n",
              "       [  0,   8,  20,   0,  21,  17]])"
            ]
          },
          "metadata": {},
          "execution_count": 247
        }
      ]
    },
    {
      "cell_type": "markdown",
      "source": [
        "#Report"
      ],
      "metadata": {
        "id": "BZjOKJMIB-RB"
      }
    },
    {
      "cell_type": "code",
      "source": [
        "print(classification_report(test_y[\"emotion\"], pred, labels=[0,1,2,3,4,5]))"
      ],
      "metadata": {
        "colab": {
          "base_uri": "https://localhost:8080/"
        },
        "id": "SYVfJxzaYHf7",
        "outputId": "fad71ee6-0b59-441a-988f-d13150a6d8d8"
      },
      "execution_count": null,
      "outputs": [
        {
          "output_type": "stream",
          "name": "stdout",
          "text": [
            "              precision    recall  f1-score   support\n",
            "\n",
            "           0       0.94      0.52      0.67       275\n",
            "           1       0.85      0.55      0.67       224\n",
            "           2       0.80      0.92      0.86       695\n",
            "           3       0.89      0.30      0.45       159\n",
            "           4       0.68      0.96      0.80       581\n",
            "           5       0.46      0.26      0.33        66\n",
            "\n",
            "    accuracy                           0.76      2000\n",
            "   macro avg       0.77      0.58      0.63      2000\n",
            "weighted avg       0.79      0.76      0.74      2000\n",
            "\n"
          ]
        }
      ]
    }
  ]
}